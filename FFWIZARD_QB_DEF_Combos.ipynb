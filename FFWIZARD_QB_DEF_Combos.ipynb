{
 "cells": [
  {
   "cell_type": "markdown",
   "metadata": {},
   "source": [
    "# FFWIZARD.COM --- QB and DEF Combos"
   ]
  },
  {
   "cell_type": "markdown",
   "metadata": {},
   "source": [
    "### Import Libraries"
   ]
  },
  {
   "cell_type": "code",
   "execution_count": 17,
   "metadata": {
    "collapsed": false
   },
   "outputs": [],
   "source": [
    "import numpy as np\n",
    "import pandas as pd\n",
    "import requests\n",
    "import StringIO\n",
    "from sklearn import preprocessing\n",
    "from pandas import ExcelWriter\n",
    "from datetime import datetime"
   ]
  },
  {
   "cell_type": "markdown",
   "metadata": {},
   "source": [
    "### Load NFL Schedule"
   ]
  },
  {
   "cell_type": "code",
   "execution_count": 18,
   "metadata": {
    "collapsed": false
   },
   "outputs": [],
   "source": [
    "# load nfl schedule data (manually entered)\n",
    "def load_schedule():\n",
    "    nfl_sched = pd.read_csv('2017_NFL_Schedule.csv')\n",
    "    return nfl_sched"
   ]
  },
  {
   "cell_type": "markdown",
   "metadata": {},
   "source": [
    "### Defense Strength Data"
   ]
  },
  {
   "cell_type": "code",
   "execution_count": 19,
   "metadata": {
    "collapsed": false
   },
   "outputs": [],
   "source": [
    "def calc_defense_strength(bye_adjustor):\n",
    "\n",
    "    # load nfl defense strength data (manually entered)\n",
    "    def_strength_data = pd.read_csv('Defense_Strength.csv')\n",
    "\n",
    "    #remove 'source' row\n",
    "    def_strength = def_strength_data.iloc[:-1, :]\n",
    "\n",
    "    # make weights based on quality of rankings\n",
    "    def_rank_weights = pd.Series([0.1, 0.5, 0.3, 0.1])\n",
    "    \n",
    "    # create weighted defense rankings array based on weights\n",
    "    num_teams = len(def_strength)\n",
    "    weighted_def_rank = np.empty(num_teams, dtype=float)\n",
    "    \n",
    "    for i in range(0, num_teams):\n",
    "        weighted_def_rank[i] = def_rank_weights[0] * float(def_strength.iloc[i, 1]) + def_rank_weights[1] * float(def_strength.iloc[i, 2]) + def_rank_weights[2] * float(def_strength.iloc[i, 3]) + def_rank_weights[3] * float(def_strength.iloc[i, 4])\n",
    "    weighted_def_rank_df = pd.Series(weighted_def_rank)\n",
    "\n",
    "    # scale weighted defense rankings to have mean of 0 and std dev of 1\n",
    "    def_rank_scaled = pd.Series(preprocessing.scale(weighted_def_rank_df))\n",
    "\n",
    "    # create table with team and score info\n",
    "    defense_score_no_bye = pd.concat([def_strength.loc[:, \"Team\"], weighted_def_rank_df, def_rank_scaled], axis=1)\n",
    "    col_names = [\"Team\", \"Def_Score\", \"Def_Score_Scaled\"]\n",
    "    defense_score_no_bye.columns = col_names\n",
    "\n",
    "    # add value for bye weeks in table\n",
    "    bye_array = pd.DataFrame([\"BYE\", \"XXX\", bye_adjustor]).T\n",
    "    bye_array.columns = col_names\n",
    "    defense_score = pd.concat([defense_score_no_bye, bye_array])\n",
    "\n",
    "    defense_score = defense_score.reset_index(drop=True)\n",
    "    \n",
    "    return defense_score"
   ]
  },
  {
   "cell_type": "markdown",
   "metadata": {},
   "source": [
    "### Offense Strength Data"
   ]
  },
  {
   "cell_type": "code",
   "execution_count": 20,
   "metadata": {
    "collapsed": false
   },
   "outputs": [],
   "source": [
    "def calc_offense_strength(bye_adjustor):\n",
    "\n",
    "    # load nfl offense strength data (manually entered)\n",
    "    off_strength_data = pd.read_csv('Offense_Strength.csv')\n",
    "\n",
    "    # remove 'source' row\n",
    "    off_strength = off_strength_data.iloc[:-1, :]\n",
    "\n",
    "    # make weights based on quality of rankings\n",
    "    off_rank_weights = pd.Series([0.3, 0.1, 0.3, 0.25, 0.05])\n",
    "    \n",
    "    # create weighted offense rankings array based on weights\n",
    "    num_teams = len(off_strength)\n",
    "    weighted_off_rank = np.empty(num_teams, dtype=float)\n",
    "    \n",
    "    for i in range(0, num_teams):\n",
    "        weighted_off_rank[i] = off_rank_weights[0] * float(off_strength.iloc[i, 1]) + off_rank_weights[1] * float(off_strength.iloc[i, 2]) + off_rank_weights[2] * float(off_strength.iloc[i, 3]) + off_rank_weights[3] * float(off_strength.iloc[i, 4])  + off_rank_weights[4] * float(off_strength.iloc[i, 5])\n",
    "    weighted_off_rank_df = pd.Series(weighted_off_rank)\n",
    "\n",
    "    # scale weighted offense rankings to have mean of 0 and std dev of 1\n",
    "    off_rank_scaled = pd.Series(preprocessing.scale(weighted_off_rank_df))\n",
    "\n",
    "    # create table with team and score info\n",
    "    offense_score_no_bye = pd.concat([off_strength.loc[:, \"Team\"], weighted_off_rank_df, off_rank_scaled], axis=1)\n",
    "    col_names = [\"Team\", \"Off_Score\", \"Off_Score_Scaled\"]\n",
    "    offense_score_no_bye.columns = col_names\n",
    "\n",
    "    # add value for bye weeks in table\n",
    "    bye_array = pd.DataFrame([\"BYE\", \"XXX\", bye_adjustor]).T\n",
    "    bye_array.columns = col_names\n",
    "    offense_score = pd.concat([offense_score_no_bye, bye_array])\n",
    "\n",
    "    offense_score = offense_score.reset_index(drop=True)\n",
    "    \n",
    "    return offense_score"
   ]
  },
  {
   "cell_type": "code",
   "execution_count": 21,
   "metadata": {
    "collapsed": false
   },
   "outputs": [],
   "source": [
    "def matchup_scores_by_week(schedule, score, last_week):\n",
    "\n",
    "    schedule_score = schedule.copy()\n",
    "\n",
    "    # replace schedule with actual matchup scores\n",
    "    for i in range(0, schedule.shape[0]):\n",
    "        for j in range(1, schedule.shape[1]):\n",
    "            for k in range(0, len(score)):\n",
    "                if score.loc[k, \"Team\"] == schedule.iloc[i, j]:\n",
    "                    schedule_score.iloc[i, j] = score.iloc[k, 2]\n",
    "\n",
    "    custom_sched_score = schedule_score.iloc[:, :(last_week+1)]\n",
    "\n",
    "    return custom_sched_score"
   ]
  },
  {
   "cell_type": "code",
   "execution_count": 22,
   "metadata": {
    "collapsed": false
   },
   "outputs": [],
   "source": [
    "def combo_score(target_team, custom_sched_score, last_week):\n",
    "\n",
    "    target_team_name = custom_sched_score.loc[target_team, \"Team\"]\n",
    "    col_label = target_team_name + \"_\" + str(last_week)\n",
    "\n",
    "    target_matchups = custom_sched_score.iloc[target_team, :]\n",
    "\n",
    "    combos_calc = custom_sched_score.copy()\n",
    "\n",
    "    sum_combos_score = []\n",
    "\n",
    "    for i in range(0, custom_sched_score.shape[0]):\n",
    "        for j in range(1, custom_sched_score.shape[1]):\n",
    "            if target_matchups[j] > custom_sched_score.iloc[i, j]:\n",
    "                combos_calc.iloc[i, j] = 0\n",
    "            else:\n",
    "                combos_calc.iloc[i, j] = custom_sched_score.iloc[i, j] - target_matchups[j]\n",
    "\n",
    "        sum_combos_score.append(combos_calc.iloc[i, 1:].sum())\n",
    "\n",
    "    sum_combos_score_df = pd.DataFrame({col_label: sum_combos_score})\n",
    "\n",
    "    targ_team_combo = pd.concat([custom_sched_score.loc[:, \"Team\"], sum_combos_score_df, custom_sched_score.iloc[:, 1:]], axis=1)\n",
    "\n",
    "    targ_team_combo_sorted = targ_team_combo.sort_values(by=[col_label], ascending=False)\n",
    "    \n",
    "    return targ_team_combo_sorted, col_label"
   ]
  },
  {
   "cell_type": "markdown",
   "metadata": {},
   "source": [
    "### Inputs"
   ]
  },
  {
   "cell_type": "code",
   "execution_count": 23,
   "metadata": {
    "collapsed": true
   },
   "outputs": [],
   "source": [
    "bye_adjustor = -2.5\n",
    "schedule = load_schedule()\n",
    "def_score = calc_defense_strength(bye_adjustor)\n",
    "off_score = calc_offense_strength(bye_adjustor)\n",
    "\n",
    "target_team_list = range(0, 32)\n",
    "last_week_list = [17]"
   ]
  },
  {
   "cell_type": "markdown",
   "metadata": {},
   "source": [
    "### Make Excel File with Defense Matchup Strengths"
   ]
  },
  {
   "cell_type": "code",
   "execution_count": 8,
   "metadata": {
    "collapsed": false
   },
   "outputs": [
    {
     "name": "stdout",
     "output_type": "stream",
     "text": [
      "ARI_15\n",
      "ATL_15\n",
      "BAL_15\n",
      "BUF_15\n",
      "CAR_15\n",
      "CHI_15\n",
      "CIN_15\n",
      "CLE_15\n",
      "DAL_15\n",
      "DEN_15\n",
      "DET_15\n",
      "GB_15\n",
      "HOU_15\n",
      "IND_15\n",
      "JAC_15\n",
      "KC_15\n",
      "LAC_15\n",
      "LAR_15\n",
      "MIA_15\n",
      "MIN_15\n",
      "NE_15\n",
      "NO_15\n",
      "NYG_15\n",
      "NYJ_15\n",
      "OAK_15\n",
      "PHI_15\n",
      "PIT_15\n",
      "SEA_15\n",
      "SF_15\n",
      "TB_15\n",
      "TEN_15\n",
      "WAS_15\n",
      "ARI_16\n",
      "ATL_16\n",
      "BAL_16\n",
      "BUF_16\n",
      "CAR_16\n",
      "CHI_16\n",
      "CIN_16\n",
      "CLE_16\n",
      "DAL_16\n",
      "DEN_16\n",
      "DET_16\n",
      "GB_16\n",
      "HOU_16\n",
      "IND_16\n",
      "JAC_16\n",
      "KC_16\n",
      "LAC_16\n",
      "LAR_16\n",
      "MIA_16\n",
      "MIN_16\n",
      "NE_16\n",
      "NO_16\n",
      "NYG_16\n",
      "NYJ_16\n",
      "OAK_16\n",
      "PHI_16\n",
      "PIT_16\n",
      "SEA_16\n",
      "SF_16\n",
      "TB_16\n",
      "TEN_16\n",
      "WAS_16\n",
      "ARI_17\n",
      "ATL_17\n",
      "BAL_17\n",
      "BUF_17\n",
      "CAR_17\n",
      "CHI_17\n",
      "CIN_17\n",
      "CLE_17\n",
      "DAL_17\n",
      "DEN_17\n",
      "DET_17\n",
      "GB_17\n",
      "HOU_17\n",
      "IND_17\n",
      "JAC_17\n",
      "KC_17\n",
      "LAC_17\n",
      "LAR_17\n",
      "MIA_17\n",
      "MIN_17\n",
      "NE_17\n",
      "NO_17\n",
      "NYG_17\n",
      "NYJ_17\n",
      "OAK_17\n",
      "PHI_17\n",
      "PIT_17\n",
      "SEA_17\n",
      "SF_17\n",
      "TB_17\n",
      "TEN_17\n",
      "WAS_17\n"
     ]
    }
   ],
   "source": [
    "# make writer object for Excel file\n",
    "writer = pd.ExcelWriter('./combos/qb_combos.xlsx', engine='xlsxwriter')\n",
    "\n",
    "# iterate through every input permutation\n",
    "for i in range(0, len(last_week_list)):\n",
    "    \n",
    "    for j in range(0, len(target_team_list)):\n",
    "        \n",
    "        \n",
    "        custom_sched_score = matchup_scores_by_week(schedule, def_score, last_week_list[i])\n",
    "        targ_team_combo_sorted, col_label = combo_score(target_team_list[j], custom_sched_score, last_week_list[i])\n",
    "        \n",
    "        targ_team_combo_sorted.to_excel(writer, sheet_name=col_label)\n",
    "        \n",
    "        print col_label\n",
    "\n",
    "writer.save()"
   ]
  },
  {
   "cell_type": "markdown",
   "metadata": {},
   "source": [
    "### Make Excel File with Offense Matchup Strengths"
   ]
  },
  {
   "cell_type": "code",
   "execution_count": 24,
   "metadata": {
    "collapsed": false
   },
   "outputs": [
    {
     "name": "stdout",
     "output_type": "stream",
     "text": [
      "ARI_15\n",
      "ATL_15\n",
      "BAL_15\n",
      "BUF_15\n",
      "CAR_15\n",
      "CHI_15\n",
      "CIN_15\n",
      "CLE_15\n",
      "DAL_15\n",
      "DEN_15\n",
      "DET_15\n",
      "GB_15\n",
      "HOU_15\n",
      "IND_15\n",
      "JAC_15\n",
      "KC_15\n",
      "LAC_15\n",
      "LAR_15\n",
      "MIA_15\n",
      "MIN_15\n",
      "NE_15\n",
      "NO_15\n",
      "NYG_15\n",
      "NYJ_15\n",
      "OAK_15\n",
      "PHI_15\n",
      "PIT_15\n",
      "SEA_15\n",
      "SF_15\n",
      "TB_15\n",
      "TEN_15\n",
      "WAS_15\n",
      "ARI_16\n",
      "ATL_16\n",
      "BAL_16\n",
      "BUF_16\n",
      "CAR_16\n",
      "CHI_16\n",
      "CIN_16\n",
      "CLE_16\n",
      "DAL_16\n",
      "DEN_16\n",
      "DET_16\n",
      "GB_16\n",
      "HOU_16\n",
      "IND_16\n",
      "JAC_16\n",
      "KC_16\n",
      "LAC_16\n",
      "LAR_16\n",
      "MIA_16\n",
      "MIN_16\n",
      "NE_16\n",
      "NO_16\n",
      "NYG_16\n",
      "NYJ_16\n",
      "OAK_16\n",
      "PHI_16\n",
      "PIT_16\n",
      "SEA_16\n",
      "SF_16\n",
      "TB_16\n",
      "TEN_16\n",
      "WAS_16\n",
      "ARI_17\n",
      "ATL_17\n",
      "BAL_17\n",
      "BUF_17\n",
      "CAR_17\n",
      "CHI_17\n",
      "CIN_17\n",
      "CLE_17\n",
      "DAL_17\n",
      "DEN_17\n",
      "DET_17\n",
      "GB_17\n",
      "HOU_17\n",
      "IND_17\n",
      "JAC_17\n",
      "KC_17\n",
      "LAC_17\n",
      "LAR_17\n",
      "MIA_17\n",
      "MIN_17\n",
      "NE_17\n",
      "NO_17\n",
      "NYG_17\n",
      "NYJ_17\n",
      "OAK_17\n",
      "PHI_17\n",
      "PIT_17\n",
      "SEA_17\n",
      "SF_17\n",
      "TB_17\n",
      "TEN_17\n",
      "WAS_17\n"
     ]
    }
   ],
   "source": [
    "# make writer object for Excel file\n",
    "writer = pd.ExcelWriter('./combos/def_combos.xlsx', engine='xlsxwriter')\n",
    "\n",
    "# iterate through every input permutation\n",
    "for i in range(0, len(last_week_list)):\n",
    "    \n",
    "    for j in range(0, len(target_team_list)):\n",
    "        \n",
    "        \n",
    "        custom_sched_score = matchup_scores_by_week(schedule, off_score, last_week_list[i])\n",
    "        targ_team_combo_sorted, col_label = combo_score(target_team_list[j], custom_sched_score, last_week_list[i])\n",
    "        \n",
    "        targ_team_combo_sorted.to_excel(writer, sheet_name=col_label)\n",
    "        \n",
    "        print col_label\n",
    "\n",
    "writer.save()"
   ]
  }
 ],
 "metadata": {
  "anaconda-cloud": {},
  "kernelspec": {
   "display_name": "Python [python2]",
   "language": "python",
   "name": "Python [python2]"
  },
  "language_info": {
   "codemirror_mode": {
    "name": "ipython",
    "version": 2
   },
   "file_extension": ".py",
   "mimetype": "text/x-python",
   "name": "python",
   "nbconvert_exporter": "python",
   "pygments_lexer": "ipython2",
   "version": "2.7.13"
  }
 },
 "nbformat": 4,
 "nbformat_minor": 2
}
